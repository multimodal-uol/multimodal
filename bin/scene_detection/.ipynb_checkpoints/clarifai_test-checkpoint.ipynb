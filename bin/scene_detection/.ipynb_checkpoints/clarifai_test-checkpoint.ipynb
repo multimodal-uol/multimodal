{
 "cells": [
  {
   "cell_type": "code",
   "execution_count": null,
   "metadata": {},
   "outputs": [],
   "source": []
  },
  {
   "cell_type": "code",
   "execution_count": 1,
   "metadata": {},
   "outputs": [],
   "source": [
    "test_img = 'images/goldeneye-Scene-001-01.jpg'"
   ]
  },
  {
   "cell_type": "code",
   "execution_count": 2,
   "metadata": {},
   "outputs": [],
   "source": [
    "def detectImage(imageURL, modelType, confidenceScore, addImageDescription):\n",
    "    model = ''\n",
    "    if modelType == 'NSFW':\n",
    "        model = 'e9576d86d2004ed1a38ba0cf39ecb4b1'\n",
    "    elif modelType == 'Apparel':\n",
    "        model = '72c523807f93e18b431676fb9a58e6ad'\n",
    "    elif modelType == 'Celebrity':\n",
    "        model = 'cfbb105cb8f54907bb8d553d68d9fe20'\n",
    "    elif modelType == 'Face':\n",
    "        model = 'f76196b43bbd45c99b4f3cd8e8b40a8a'\n",
    "    elif modelType == 'Logo':\n",
    "        model = 'c443119bf2ed4da98487520d01a0b1e3'\n",
    "    elif modelType == 'Color':\n",
    "        model = 'eeed0b6733a644cea07cf4c60f87ebb7'\n",
    "    allConcepts=''\n",
    "    concepts = ''\n",
    "    if addImageDescription =='True':\n",
    "        if modelType== 'Demographics' or modelType== 'Travel' or modelType== 'Food' or modelType== 'General':\n",
    "            try:\n",
    "                stub = service_pb2_grpc.V2Stub(ClarifaiChannel.get_grpc_channel())\n",
    "                metadata = (('authorization', 'Key ed69d46b58a24e96aa7184ed2f635931'),)\n",
    "                post_workflow_results_response = stub.PostWorkflowResults(\n",
    "                    service_pb2.PostWorkflowResultsRequest(\n",
    "                        workflow_id=modelType,\n",
    "                        inputs=[\n",
    "                            resources_pb2.Input(\n",
    "                                data=resources_pb2.Data(\n",
    "                                    image=resources_pb2.Image(\n",
    "                                        url=imageURL\n",
    "                                    )\n",
    "                                )\n",
    "                            )\n",
    "                        ]\n",
    "                    ),\n",
    "                    metadata=metadata\n",
    "                )\n",
    "                if post_workflow_results_response.status.code != status_code_pb2.SUCCESS:\n",
    "                    raise Exception(\"Post workflow results failed, status: \" +\n",
    "                                    post_workflow_results_response.status.description)\n",
    " \n",
    "                results = post_workflow_results_response.results[0]\n",
    " \n",
    "                if modelType== 'Demographics':\n",
    "                    concepts = results.outputs[2].data.regions[0].data.concepts\n",
    "                elif modelType== 'Travel' or modelType== 'Food' or modelType == 'General':\n",
    "                    concepts = results.outputs[0].data.concepts\n",
    " \n",
    "                for concept in concepts:\n",
    "                    if concept.value > float(confidenceScore):\n",
    "                        allConcepts=allConcepts+ ' '+concept.name\n",
    "            except:\n",
    "                f = open(\"/tmp/commands.txt\", \"w\")\n",
    "                f.write(str(traceback.format_exc()))\n",
    "                f.close()\n",
    "        else:\n",
    "            try:\n",
    "                channel = ClarifaiChannel.get_grpc_channel()\n",
    "                stub = service_pb2_grpc.V2Stub(channel)\n",
    "                metadata = (('authorization', 'Key ed69d46b58a24e96aa7184ed2f635931'),)\n",
    "                post_model_outputs_response = stub.PostModelOutputs(\n",
    "                    service_pb2.PostModelOutputsRequest(\n",
    "                        model_id=model,\n",
    "                        #version_id=\"{THE_MODEL_VERSION_ID}\",  # This is optional. Defaults to the latest model version.\n",
    "                        inputs=[\n",
    "                            resources_pb2.Input(\n",
    "                                data=resources_pb2.Data(\n",
    "                                    image=resources_pb2.Image(\n",
    "                                        url=imageURL\n",
    "                                    )\n",
    "                                )\n",
    "                            )\n",
    "                        ]\n",
    "                    ),\n",
    "                    metadata=metadata\n",
    "                )\n",
    "                if post_model_outputs_response.status.code != status_code_pb2.SUCCESS:\n",
    "                    raise Exception(\"Post model outputs failed, status: \" + post_model_outputs_response.status.description)\n",
    "                output = post_model_outputs_response.outputs[0]\n",
    "                if modelType == 'Logo' or modelType== 'Apparel' or modelType== 'Face':\n",
    "                    for region in output.data.regions:\n",
    "                        for concept in region.data.concepts:\n",
    "                            if concept.value > confidenceScore:\n",
    "                                allConcepts=allConcepts+ ' '+concept.name\n",
    "                elif modelType == 'Color':\n",
    "                    concepts = output.data.colors\n",
    "                elif modelType == 'Celebrity' or modelType== 'NSFW' :\n",
    "                    concepts = output.data.concepts\n",
    "                for concept in concepts:\n",
    "                    if concept.value > float(confidenceScore):\n",
    "                        if modelType == 'Color':\n",
    "                            allConcepts=allConcepts+ ' '+concept.w3c. name\n",
    "                        else:\n",
    "                            allConcepts=allConcepts+ ' '+concept.name\n",
    "            except:\n",
    "                f = open(\"/tmp/commands.txt\", \"w\")\n",
    "                f.write(str(traceback.format_exc()))\n",
    "                f.close()\n",
    "    return allConcepts"
   ]
  },
  {
   "cell_type": "code",
   "execution_count": 6,
   "metadata": {},
   "outputs": [
    {
     "data": {
      "text/plain": [
       "''"
      ]
     },
     "execution_count": 6,
     "metadata": {},
     "output_type": "execute_result"
    }
   ],
   "source": [
    "detectImage(test_img, 'Celebrity', 0.3, True )"
   ]
  },
  {
   "cell_type": "code",
   "execution_count": 7,
   "metadata": {},
   "outputs": [
    {
     "name": "stdout",
     "output_type": "stream",
     "text": [
      "Traceback (most recent call last):\n",
      "  File \"/opt/splunk/etc/apps/multimodal-datagen/bin/Demographics.py\", line 91, in detectImageDemographics\n",
      "    post_workflow_results_response.status.description)\n",
      "Exception: Post workflow results failed, status: Failure\n",
      "\n"
     ]
    }
   ],
   "source": [
    "f = open(\"/tmp/commands.txt\", \"r\")\n",
    "print(f.read())"
   ]
  }
 ],
 "metadata": {
  "kernelspec": {
   "display_name": "Python 3",
   "language": "python",
   "name": "python3"
  },
  "language_info": {
   "codemirror_mode": {
    "name": "ipython",
    "version": 3
   },
   "file_extension": ".py",
   "mimetype": "text/x-python",
   "name": "python",
   "nbconvert_exporter": "python",
   "pygments_lexer": "ipython3",
   "version": "3.7.6"
  }
 },
 "nbformat": 4,
 "nbformat_minor": 4
}
