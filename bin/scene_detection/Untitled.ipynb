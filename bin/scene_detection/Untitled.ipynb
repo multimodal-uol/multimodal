{
 "cells": [
  {
   "cell_type": "code",
   "execution_count": 5,
   "metadata": {},
   "outputs": [],
   "source": [
    "import json"
   ]
  },
  {
   "cell_type": "code",
   "execution_count": 1,
   "metadata": {},
   "outputs": [],
   "source": [
    "class videoObj:\n",
    "    def __init__(self,  current_time,  movie_link, movie_desription, title, date_published, news_outlet, \n",
    "                 article_link):\n",
    "        self.current_time = current_time\n",
    "        self.movie_link = movie_link\n",
    "        self.movie_desription = movie_desription\n",
    "        self.title = title\n",
    "        self.date_published = date_published\n",
    "        self.news_outlet = news_outlet\n",
    "        self.article_link = article_link"
   ]
  },
  {
   "cell_type": "code",
   "execution_count": 2,
   "metadata": {},
   "outputs": [],
   "source": [
    "def write_to_json (file_name):\n",
    "    with open(file_name, 'w') as f:\n",
    "        if listArticles:\n",
    "                json.dump([ob.__dict__ for ob in listArticles], f,indent=4)"
   ]
  },
  {
   "cell_type": "code",
   "execution_count": 4,
   "metadata": {},
   "outputs": [],
   "source": [
    "listArticles = []"
   ]
  },
  {
   "cell_type": "code",
   "execution_count": 10,
   "metadata": {},
   "outputs": [],
   "source": [
    "current_time=['hgidsofjdi','hgidsofjdi','hgidsofjdi']\n",
    "movie_link=['hgidsofjdi','hgidsofjdi','hgidsofjdi']\n",
    "movie_desription=3\n",
    "title='sdsd'\n",
    "date_published='sdsd'\n",
    "news_outlet='sdsd'\n",
    "article_link='sdsd'"
   ]
  },
  {
   "cell_type": "code",
   "execution_count": 11,
   "metadata": {},
   "outputs": [],
   "source": [
    "a = videoObj(current_time,  movie_link, movie_desription, title, date_published, news_outlet, \n",
    "                 article_link)"
   ]
  },
  {
   "cell_type": "code",
   "execution_count": 12,
   "metadata": {},
   "outputs": [],
   "source": [
    "listArticles.append(a)"
   ]
  },
  {
   "cell_type": "code",
   "execution_count": 13,
   "metadata": {},
   "outputs": [],
   "source": [
    "write_to_json('test.json')"
   ]
  },
  {
   "cell_type": "code",
   "execution_count": 5,
   "metadata": {},
   "outputs": [
    {
     "name": "stdout",
     "output_type": "stream",
     "text": [
      "1\n",
      "00:00:13,000 --> 00:00:19,450\n",
      "With just over 1.2 million people, Amsterdam is the largest city in The Netherlands,\n",
      "\n",
      "2\n",
      "00:00:19,450 --> 00:00:26,060\n",
      "a country most people know as Holland.\n",
      "\n",
      "3\n",
      "00:00:26,060 --> 00:00:29,670\n",
      "This multicultural city warmly embraces tourists,\n",
      "\n",
      "4\n",
      "00:00:29,670 --> 00:00:33,840\n",
      "with over 3.5 million people visiting each year.\n",
      "\n",
      "5\n",
      "00:00:33,840 --> 00:00:39,930\n",
      "The Dutch are very tolerant and fun to talk with, and everybody speaks English.\n",
      "\n",
      "6\n",
      "00:00:39,930 --> 00:00:44,640\n",
      "The heart of the city is so picturesque that it is like\n",
      "\n",
      "7\n",
      "00:00:44,640 --> 00:00:47,360\n",
      "an historical open-air museum.\n",
      "\n",
      "8\n",
      "00:00:47,360 --> 00:00:53,040\n",
      "No wonder that the inner canal district is an internationally protected heritage site.\n",
      "\n",
      "9\n",
      "00:00:53,040 --> 00:00:58,760\n",
      "In the 17th century Amsterdam was a center for world economy\n",
      "\n",
      "10\n",
      "00:00:58,760 --> 00:01:04,649\n",
      "and many of the canal houses and old warehouses date from this Golden Age.\n",
      "\n",
      "11\n",
      "00:01:04,649 --> 00:01:08,640\n",
      "Some landmarks, such as the Oude Kerk in the Red Light District\n",
      "\n",
      "12\n",
      "00:01:08,640 --> 00:01:15,640\n",
      "even date back to the 13th century.\n",
      "\n",
      "13\n",
      "00:01:16,100 --> 00:01:20,290\n",
      "Just a short walk from the Central Station is iconic Dam Square,\n",
      "\n",
      "14\n",
      "00:01:20,290 --> 00:01:24,320\n",
      "built nearly 750 years ago.\n",
      "\n",
      "15\n",
      "00:01:24,320 --> 00:01:28,049\n",
      "Its purpose gave the city its name: Amster. Dam.\n",
      "\n",
      "16\n",
      "00:01:28,049 --> 00:01:34,290\n",
      "A dam built around the river Amstel to protect it from an inland sea.\n",
      "\n",
      "17\n",
      "00:01:34,290 --> 00:01:38,040\n",
      "The square is dominated by the Royal Palace.\n",
      "\n",
      "18\n",
      "00:01:38,040 --> 00:01:41,150\n",
      "From its windows you can see the National Monument,\n",
      "\n",
      "19\n",
      "00:01:41,150 --> 00:01:47,090\n",
      "dedicated to the many Dutch victims of World War II.\n",
      "\n",
      "20\n",
      "00:01:47,090 --> 00:01:52,060\n",
      "The Dam also houses Madame Tussauds' wax collection.\n",
      "\n",
      "21\n",
      "00:01:52,060 --> 00:01:55,070\n",
      "The impressive wax collection combines humor\n",
      "\n",
      "22\n",
      "00:01:55,070 --> 00:01:59,030\n",
      "with an insight into Holland's gripping history.\n",
      "\n",
      "23\n",
      "00:01:59,030 --> 00:02:02,850\n",
      "Listen to fragments of Anne Frank's famous diary,\n",
      "\n",
      "24\n",
      "00:02:02,850 --> 00:02:07,259\n",
      "or visit her old hiding place to understand what life was like\n",
      "\n",
      "25\n",
      "00:02:07,259 --> 00:02:12,060\n",
      "for Jewish families during Nazi occupation.\n",
      "\n",
      "26\n",
      "00:02:12,060 --> 00:02:17,260\n",
      "It's not surprising that Europeans call Amsterdam 'The Venice Of The North':\n",
      "\n",
      "27\n",
      "00:02:17,260 --> 00:02:23,060\n",
      "No less than 165 canals - crossed by a thousand bridges -\n",
      "\n",
      "28\n",
      "00:02:23,060 --> 00:02:25,980\n",
      "divide the compact city center.\n",
      "\n",
      "29\n",
      "00:02:25,980 --> 00:02:30,569\n",
      "Forget about cars, the best way to see the city center is by foot,\n",
      "\n",
      "30\n",
      "00:02:30,569 --> 00:02:32,489\n",
      "or, as the Dutch would say:\n",
      "\n",
      "31\n",
      "00:02:32,489 --> 00:02:35,050\n",
      "\"Just get on your bike!\"\n",
      "\n",
      "32\n",
      "00:02:35,050 --> 00:02:40,650\n",
      "Alternatively, take the tram across the city to the Museumplein.\n",
      "\n",
      "33\n",
      "00:02:40,650 --> 00:02:44,690\n",
      "Art and history lovers insist that you haven't seen Amsterdam\n",
      "\n",
      "34\n",
      "00:02:44,690 --> 00:02:50,030\n",
      "if you haven't seen the paintings by the Dutch masters that are on display here.\n",
      "\n",
      "35\n",
      "00:02:50,030 --> 00:02:55,069\n",
      "The Rijksmuseum focuses on Dutch painters from the Golden Age.\n",
      "\n",
      "36\n",
      "00:02:55,069 --> 00:02:58,920\n",
      "But don't forget, there are over 1 million other artworks\n",
      "\n",
      "37\n",
      "00:02:58,920 --> 00:03:03,050\n",
      "on display in this museum with 200 rooms.\n",
      "\n",
      "38\n",
      "00:03:03,050 --> 00:03:05,620\n",
      "Located nearby is the Van Gogh Museum,\n",
      "\n",
      "39\n",
      "00:03:05,620 --> 00:03:10,690\n",
      "dedicated to a poor but legendary 19th-century painter.\n",
      "\n",
      "40\n",
      "00:03:10,690 --> 00:03:17,120\n",
      "Sadly, he didn't live long enough to see his work become world-famous.\n",
      "\n",
      "41\n",
      "00:03:17,120 --> 00:03:20,190\n",
      "Witness the fine art of transforming rough stones\n",
      "\n",
      "42\n",
      "00:03:20,190 --> 00:03:23,659\n",
      "into sparkling jewels in the Diamond Museum.\n",
      "\n",
      "43\n",
      "00:03:23,659 --> 00:03:30,040\n",
      "For centuries, Amsterdam was the diamond polishing center of the world.\n",
      "\n",
      "44\n",
      "00:03:30,040 --> 00:03:37,040\n",
      "A gentle 10-minute stroll northwest brings you to the popular Vondelpark.\n",
      "\n",
      "45\n",
      "00:03:38,129 --> 00:03:42,690\n",
      "On sunny days it bursts into life as locals and tourists alike\n",
      "\n",
      "46\n",
      "00:03:42,690 --> 00:03:45,069\n",
      "come here to relax and people watch.\n",
      "\n",
      "47\n",
      "00:03:45,069 --> 00:03:51,720\n",
      "If you are a beer lover, make your way over to the old Heineken Brewery.\n",
      "\n",
      "48\n",
      "00:03:51,720 --> 00:03:57,040\n",
      "It is the place to sample one of the world's most popular lagers.\n",
      "\n",
      "49\n",
      "00:03:57,040 --> 00:04:01,190\n",
      "Submerge yourself in the interactive Heineken Experience!\n",
      "\n",
      "50\n",
      "00:04:01,190 --> 00:04:05,900\n",
      "From the tulip-filled stalls of the Flower Market,\n",
      "\n",
      "51\n",
      "00:04:05,900 --> 00:04:10,799\n",
      "follow the broad canal northeast to the Nieuwmarkt.\n",
      "\n",
      "52\n",
      "00:04:10,799 --> 00:04:17,799\n",
      "In the old days, Dutch traders used to come here to weigh in their butter and cheese.\n",
      "\n",
      "53\n",
      "00:04:17,959 --> 00:04:22,530\n",
      "Leaving the Nieuwmarkt, you can walk through Chinatown to the Central Station,\n",
      "\n",
      "54\n",
      "00:04:22,530 --> 00:04:25,909\n",
      "or take a short detour to 'De Wallen',\n",
      "\n",
      "55\n",
      "00:04:25,909 --> 00:04:30,090\n",
      "one of the world's oldest and most famous Red Light Districts.\n",
      "\n",
      "56\n",
      "00:04:30,090 --> 00:04:34,990\n",
      "Today, coffee shops and adult emporiums keep the 'anything goes'\n",
      "\n",
      "57\n",
      "00:04:34,990 --> 00:04:37,360\n",
      "spirit of this neighborhood alive.\n",
      "\n",
      "58\n",
      "00:04:37,360 --> 00:04:40,509\n",
      "As evening sets, head to the Leidseplein,\n",
      "\n",
      "59\n",
      "00:04:40,509 --> 00:04:44,030\n",
      "a square that is buzzing with live music and nightlife.\n",
      "\n",
      "60\n",
      "00:04:44,030 --> 00:04:48,840\n",
      "After dark, the canal district takes on a romantic air -\n",
      "\n",
      "61\n",
      "00:04:48,840 --> 00:04:55,840\n",
      "the perfect backdrop for a moonlit walk before you retreat to your hotel.\n",
      "\n",
      "62\n",
      "00:04:56,960 --> 00:04:59,590\n",
      "There is no other city like Amsterdam.\n",
      "\n",
      "63\n",
      "00:04:59,590 --> 00:05:03,020\n",
      "With its seafaring history, charming gabled houses,\n",
      "\n",
      "64\n",
      "00:05:03,020 --> 00:05:05,960\n",
      "remarkable art, and cosmopolitan people-\n",
      "\n",
      "65\n",
      "00:05:05,960 --> 00:05:08,120\n",
      "it is a place that you won't easily forget!\n"
     ]
    },
    {
     "name": "stderr",
     "output_type": "stream",
     "text": [
      "/opt/anaconda3/lib/python3.7/site-packages/ipykernel_launcher.py:6: DeprecationWarning: Call to deprecated function get_by_language_code (This object can be treated as a dictionary, i.e. captions['en']).\n",
      "  \n"
     ]
    }
   ],
   "source": [
    "from pytube import YouTube\n",
    "\n",
    "source = YouTube('https://www.youtube.com/watch?v=wjTn_EkgQRg&index=1&list=PLgJ7b1NurjD2oN5ZXbKbPjuI04d_S0V1K')\n",
    "\n",
    "\n",
    "en_caption = source.captions.get_by_language_code('en')\n",
    "\n",
    "en_caption_convert_to_srt =(en_caption.generate_srt_captions())\n",
    "\n",
    "print(en_caption_convert_to_srt)"
   ]
  },
  {
   "cell_type": "code",
   "execution_count": 7,
   "metadata": {},
   "outputs": [
    {
     "data": {
      "text/plain": [
       "'<?xml version=\"1.0\" encoding=\"utf-8\" ?><transcript><text start=\"13\" dur=\"6.45\">With just over 1.2 million people, Amsterdam\\nis the largest city in The Netherlands,</text><text start=\"19.45\" dur=\"6.61\">a country most people know as Holland.</text><text start=\"26.06\" dur=\"3.61\">This multicultural city warmly embraces tourists,</text><text start=\"29.67\" dur=\"4.17\">with over 3.5 million people visiting each\\nyear.</text><text start=\"33.84\" dur=\"6.09\">The Dutch are very tolerant and fun to talk\\nwith, and everybody speaks English.</text><text start=\"39.93\" dur=\"4.71\">The heart of the city is so picturesque that\\nit is like</text><text start=\"44.64\" dur=\"2.72\">an historical open-air museum.</text><text start=\"47.36\" dur=\"5.68\">No wonder that the inner canal district is\\nan internationally protected heritage site.</text><text start=\"53.04\" dur=\"5.72\">In the 17th century Amsterdam was a center\\nfor world economy</text><text start=\"58.76\" dur=\"5.889\">and many of the canal houses and old warehouses\\ndate from this Golden Age.</text><text start=\"64.649\" dur=\"3.991\">Some landmarks, such as the Oude Kerk in the\\nRed Light District</text><text start=\"68.64\" dur=\"7\">even date back to the 13th century.</text><text start=\"76.1\" dur=\"4.19\">Just a short walk from the Central Station\\nis iconic Dam Square,</text><text start=\"80.29\" dur=\"4.03\">built nearly 750 years ago.</text><text start=\"84.32\" dur=\"3.729\">Its purpose gave the city its name: Amster.\\nDam.</text><text start=\"88.049\" dur=\"6.241\">A dam built around the river Amstel to protect\\nit from an inland sea.</text><text start=\"94.29\" dur=\"3.75\">The square is dominated by the Royal Palace.</text><text start=\"98.04\" dur=\"3.11\">From its windows you can see the National\\nMonument,</text><text start=\"101.15\" dur=\"5.94\">dedicated to the many Dutch victims of World\\nWar II.</text><text start=\"107.09\" dur=\"4.97\">The Dam also houses Madame Tussauds&amp;#39; wax collection.</text><text start=\"112.06\" dur=\"3.01\">The impressive wax collection combines humor</text><text start=\"115.07\" dur=\"3.96\">with an insight into Holland&amp;#39;s gripping history.</text><text start=\"119.03\" dur=\"3.82\">Listen to fragments of Anne Frank&amp;#39;s famous\\ndiary,</text><text start=\"122.85\" dur=\"4.409\">or visit her old hiding place to understand\\nwhat life was like</text><text start=\"127.259\" dur=\"4.801\">for Jewish families during Nazi occupation.</text><text start=\"132.06\" dur=\"5.2\">It&amp;#39;s not surprising that Europeans call Amsterdam\\n&amp;#39;The Venice Of The North&amp;#39;:</text><text start=\"137.26\" dur=\"5.8\">No less than 165 canals - crossed by a thousand\\nbridges -</text><text start=\"143.06\" dur=\"2.92\">divide the compact city center.</text><text start=\"145.98\" dur=\"4.589\">Forget about cars, the best way to see the\\ncity center is by foot,</text><text start=\"150.569\" dur=\"1.92\">or, as the Dutch would say:</text><text start=\"152.489\" dur=\"2.561\">&amp;quot;Just get on your bike!&amp;quot;</text><text start=\"155.05\" dur=\"5.6\">Alternatively, take the tram across the city\\nto the Museumplein.</text><text start=\"160.65\" dur=\"4.04\">Art and history lovers insist that you haven&amp;#39;t\\nseen Amsterdam</text><text start=\"164.69\" dur=\"5.34\">if you haven&amp;#39;t seen the paintings by the Dutch\\nmasters that are on display here.</text><text start=\"170.03\" dur=\"5.039\">The Rijksmuseum focuses on Dutch painters\\nfrom the Golden Age.</text><text start=\"175.069\" dur=\"3.851\">But don&amp;#39;t forget, there are over 1 million\\nother artworks</text><text start=\"178.92\" dur=\"4.13\">on display in this museum with 200 rooms.</text><text start=\"183.05\" dur=\"2.57\">Located nearby is the Van Gogh Museum,</text><text start=\"185.62\" dur=\"5.07\">dedicated to a poor but legendary 19th-century\\npainter.</text><text start=\"190.69\" dur=\"6.43\">Sadly, he didn&amp;#39;t live long enough to see his\\nwork become world-famous.</text><text start=\"197.12\" dur=\"3.07\">Witness the fine art of transforming rough\\nstones</text><text start=\"200.19\" dur=\"3.469\">into sparkling jewels in the Diamond Museum.</text><text start=\"203.659\" dur=\"6.381\">For centuries, Amsterdam was the diamond polishing\\ncenter of the world.</text><text start=\"210.04\" dur=\"7\">A gentle 10-minute stroll northwest brings\\nyou to the popular Vondelpark.</text><text start=\"218.129\" dur=\"4.561\">On sunny days it bursts into life as locals\\nand tourists alike</text><text start=\"222.69\" dur=\"2.379\">come here to relax and people watch.</text><text start=\"225.069\" dur=\"6.651\">If you are a beer lover, make your way over\\nto the old Heineken Brewery.</text><text start=\"231.72\" dur=\"5.32\">It is the place to sample one of the world&amp;#39;s\\nmost popular lagers.</text><text start=\"237.04\" dur=\"4.15\">Submerge yourself in the interactive Heineken\\nExperience!</text><text start=\"241.19\" dur=\"4.71\">From the tulip-filled stalls of the Flower\\nMarket,</text><text start=\"245.9\" dur=\"4.899\">follow the broad canal northeast to the Nieuwmarkt.</text><text start=\"250.799\" dur=\"7\">In the old days, Dutch traders used to come\\nhere to weigh in their butter and cheese.</text><text start=\"257.959\" dur=\"4.571\">Leaving the Nieuwmarkt, you can walk through\\nChinatown to the Central Station,</text><text start=\"262.53\" dur=\"3.379\">or take a short detour to &amp;#39;De Wallen&amp;#39;,</text><text start=\"265.909\" dur=\"4.181\">one of the world&amp;#39;s oldest and most famous\\nRed Light Districts.</text><text start=\"270.09\" dur=\"4.9\">Today, coffee shops and adult emporiums keep\\nthe &amp;#39;anything goes&amp;#39;</text><text start=\"274.99\" dur=\"2.37\">spirit of this neighborhood alive.</text><text start=\"277.36\" dur=\"3.149\">As evening sets, head to the Leidseplein,</text><text start=\"280.509\" dur=\"3.521\">a square that is buzzing with live music and\\nnightlife.</text><text start=\"284.03\" dur=\"4.81\">After dark, the canal district takes on a\\nromantic air -</text><text start=\"288.84\" dur=\"7\">the perfect backdrop for a moonlit walk before\\nyou retreat to your hotel.</text><text start=\"296.96\" dur=\"2.63\">There is no other city like Amsterdam.</text><text start=\"299.59\" dur=\"3.43\">With its seafaring history, charming gabled\\nhouses,</text><text start=\"303.02\" dur=\"2.94\">remarkable art, and cosmopolitan people-</text><text start=\"305.96\" dur=\"2.16\">it is a place that you won&amp;#39;t easily forget!</text></transcript>'"
      ]
     },
     "execution_count": 7,
     "metadata": {},
     "output_type": "execute_result"
    }
   ],
   "source": [
    "en_caption.xml_captions"
   ]
  },
  {
   "cell_type": "code",
   "execution_count": 8,
   "metadata": {},
   "outputs": [
    {
     "name": "stderr",
     "output_type": "stream",
     "text": [
      "/opt/anaconda3/lib/python3.7/site-packages/html5lib/_trie/_base.py:3: DeprecationWarning: Using or importing the ABCs from 'collections' instead of from 'collections.abc' is deprecated since Python 3.3,and in 3.9 it will stop working\n",
      "  from collections import Mapping\n"
     ]
    }
   ],
   "source": [
    "from bs4 import BeautifulSoup"
   ]
  },
  {
   "cell_type": "code",
   "execution_count": 14,
   "metadata": {},
   "outputs": [
    {
     "data": {
      "text/plain": [
       "'With just over 1.2 million people, Amsterdam is the largest city in The Netherlands,a country most people know as Holland.This multicultural city warmly embraces tourists,with over 3.5 million people visiting each year.The Dutch are very tolerant and fun to talk with, and everybody speaks English.The heart of the city is so picturesque that it is likean historical open-air museum.No wonder that the inner canal district is an internationally protected heritage site.In the 17th century Amsterdam was a center for world economyand many of the canal houses and old warehouses date from this Golden Age.Some landmarks, such as the Oude Kerk in the Red Light Districteven date back to the 13th century.Just a short walk from the Central Station is iconic Dam Square,built nearly 750 years ago.Its purpose gave the city its name: Amster. Dam.A dam built around the river Amstel to protect it from an inland sea.The square is dominated by the Royal Palace.From its windows you can see the National Monument,dedicated to the many Dutch victims of World War II.The Dam also houses Madame Tussauds&#39; wax collection.The impressive wax collection combines humorwith an insight into Holland&#39;s gripping history.Listen to fragments of Anne Frank&#39;s famous diary,or visit her old hiding place to understand what life was likefor Jewish families during Nazi occupation.It&#39;s not surprising that Europeans call Amsterdam &#39;The Venice Of The North&#39;:No less than 165 canals - crossed by a thousand bridges -divide the compact city center.Forget about cars, the best way to see the city center is by foot,or, as the Dutch would say:&quot;Just get on your bike!&quot;Alternatively, take the tram across the city to the Museumplein.Art and history lovers insist that you haven&#39;t seen Amsterdamif you haven&#39;t seen the paintings by the Dutch masters that are on display here.The Rijksmuseum focuses on Dutch painters from the Golden Age.But don&#39;t forget, there are over 1 million other artworkson display in this museum with 200 rooms.Located nearby is the Van Gogh Museum,dedicated to a poor but legendary 19th-century painter.Sadly, he didn&#39;t live long enough to see his work become world-famous.Witness the fine art of transforming rough stonesinto sparkling jewels in the Diamond Museum.For centuries, Amsterdam was the diamond polishing center of the world.A gentle 10-minute stroll northwest brings you to the popular Vondelpark.On sunny days it bursts into life as locals and tourists alikecome here to relax and people watch.If you are a beer lover, make your way over to the old Heineken Brewery.It is the place to sample one of the world&#39;s most popular lagers.Submerge yourself in the interactive Heineken Experience!From the tulip-filled stalls of the Flower Market,follow the broad canal northeast to the Nieuwmarkt.In the old days, Dutch traders used to come here to weigh in their butter and cheese.Leaving the Nieuwmarkt, you can walk through Chinatown to the Central Station,or take a short detour to &#39;De Wallen&#39;,one of the world&#39;s oldest and most famous Red Light Districts.Today, coffee shops and adult emporiums keep the &#39;anything goes&#39;spirit of this neighborhood alive.As evening sets, head to the Leidseplein,a square that is buzzing with live music and nightlife.After dark, the canal district takes on a romantic air -the perfect backdrop for a moonlit walk before you retreat to your hotel.There is no other city like Amsterdam.With its seafaring history, charming gabled houses,remarkable art, and cosmopolitan people-it is a place that you won&#39;t easily forget!'"
      ]
     },
     "execution_count": 14,
     "metadata": {},
     "output_type": "execute_result"
    }
   ],
   "source": [
    "y=BeautifulSoup(en_caption.xml_captions,features=\"xml\")\n",
    "caption = y.transcript.text.replace('\\n',' ')\n",
    "caption"
   ]
  }
 ],
 "metadata": {
  "kernelspec": {
   "display_name": "Python 3",
   "language": "python",
   "name": "python3"
  },
  "language_info": {
   "codemirror_mode": {
    "name": "ipython",
    "version": 3
   },
   "file_extension": ".py",
   "mimetype": "text/x-python",
   "name": "python",
   "nbconvert_exporter": "python",
   "pygments_lexer": "ipython3",
   "version": "3.7.6"
  }
 },
 "nbformat": 4,
 "nbformat_minor": 4
}
